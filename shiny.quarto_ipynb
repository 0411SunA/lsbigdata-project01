{
  "cells": [
    {
      "cell_type": "markdown",
      "metadata": {},
      "source": [
        "---\n",
        "title: \"Penguin Bills\"\n",
        "format: dashboard\n",
        "server: shiny\n",
        "---"
      ],
      "id": "fa88209c"
    },
    {
      "cell_type": "code",
      "metadata": {},
      "source": [
        "import seaborn as sns\n",
        "penguins = sns.load_dataset(\"penguins\")"
      ],
      "id": "a38b7758",
      "execution_count": null,
      "outputs": []
    },
    {
      "cell_type": "markdown",
      "metadata": {},
      "source": [
        "## {.sidebar}\n"
      ],
      "id": "6517894b"
    },
    {
      "cell_type": "code",
      "metadata": {},
      "source": [
        "from shiny.express import render, ui\n",
        "ui.input_select(\"x\", \"Variable:\",\n",
        "                choices=[\"bill_length_mm\", \"bill_depth_mm\"])\n",
        "ui.input_select(\"dist\", \"Distribution:\", choices=[\"hist\", \"kde\"])\n",
        "ui.input_checkbox(\"rug\", \"Show rug marks\", value = False)"
      ],
      "id": "c697298e",
      "execution_count": null,
      "outputs": []
    },
    {
      "cell_type": "markdown",
      "metadata": {},
      "source": [
        "## Column\n"
      ],
      "id": "37f8fa02"
    },
    {
      "cell_type": "code",
      "metadata": {},
      "source": [
        "@render.plot\n",
        "def displot():\n",
        "    sns.displot(\n",
        "        data=penguins, hue=\"species\", multiple=\"stack\",\n",
        "        x=input.x(), rug=input.rug(), kind=input.dist())"
      ],
      "id": "c7361023",
      "execution_count": null,
      "outputs": []
    }
  ],
  "metadata": {
    "kernelspec": {
      "name": "python3",
      "language": "python",
      "display_name": "Python 3 (ipykernel)",
      "path": "C:\\Users\\USER\\.conda\\envs\\lsbigdata-project1\\share\\jupyter\\kernels\\python3"
    }
  },
  "nbformat": 4,
  "nbformat_minor": 5
}